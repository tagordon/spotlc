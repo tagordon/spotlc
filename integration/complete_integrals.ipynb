{
 "cells": [
  {
   "cell_type": "code",
   "execution_count": 5,
   "id": "9d1bacce-93f9-4b2c-a28c-8a2bcfc52989",
   "metadata": {},
   "outputs": [],
   "source": [
    "import jax.numpy as jnp\n",
    "from integrals import *\n",
    "import matplotlib.pyplot as plt"
   ]
  },
  {
   "cell_type": "code",
   "execution_count": 6,
   "id": "d31d5e56-06e7-451b-8d14-649cf73dcfcd",
   "metadata": {},
   "outputs": [],
   "source": [
    "@jax.jit\n",
    "def igv(t, a, b, z):\n",
    "\n",
    "    x = (a * jnp.cos(t))**2 + (z + b * jnp.sin(t))**2\n",
    "    return a * (b + jnp.sin(t) * z) * (\n",
    "        1 - (1 - x) ** 1.5\n",
    "    ) / (3 * x)\n",
    "    \n",
    "def igt(t, a, b, z):\n",
    "\n",
    "    num = a * (b + t * z) * (1 - (1 - a * a * (1 - t * t) - (b * t + z)**2)**1.5)\n",
    "    den = 3 * jnp.sqrt(1 - t * t) * (a * a * (1 - t * t) + (b * t + z)**2)\n",
    "    return num / den "
   ]
  },
  {
   "cell_type": "code",
   "execution_count": 7,
   "id": "e538ddf9-d5f9-4121-b165-bdee914a3439",
   "metadata": {},
   "outputs": [
    {
     "data": {
      "text/plain": [
       "-6.938893903907228e-18"
      ]
     },
     "execution_count": 7,
     "metadata": {},
     "output_type": "execute_result"
    }
   ],
   "source": [
    "quad(lambda x: (1-x)**3, 0.1, 0.2)[0] - quad(lambda y: -1 * y**3, 1-0.1, 1-0.2)[0]"
   ]
  },
  {
   "cell_type": "code",
   "execution_count": 8,
   "id": "fa4b73d0-72d6-4332-831d-c392068ea9e3",
   "metadata": {},
   "outputs": [
    {
     "name": "stdout",
     "output_type": "stream",
     "text": [
      "(0.006266075866827483, 6.030667271169308e-16)\n",
      "(0.006266075866827175, 1.4422790187845758e-08)\n"
     ]
    },
    {
     "name": "stderr",
     "output_type": "stream",
     "text": [
      "/var/folders/dc/b802gvz91_q_5p71n099w8d40000gn/T/ipykernel_18289/2694532819.py:14: IntegrationWarning: The integral is probably divergent, or slowly convergent.\n",
      "  int_igt = quad(igt, t1, t2, args=(a, b, z))\n"
     ]
    }
   ],
   "source": [
    "from scipy.integrate import quad\n",
    "\n",
    "a = 0.1\n",
    "b = 0.05\n",
    "z = 0.6\n",
    "\n",
    "v1 = -jnp.pi / 2\n",
    "v2 = jnp.pi / 2\n",
    "\n",
    "t1 = jnp.sin(v1)\n",
    "t2 = jnp.sin(v2)\n",
    "\n",
    "int_igv = quad(igv, v1, v2, args=(a, b, z))\n",
    "int_igt = quad(igt, t1, t2, args=(a, b, z))\n",
    "\n",
    "print(int_igv)\n",
    "print(int_igt)"
   ]
  },
  {
   "cell_type": "code",
   "execution_count": 9,
   "id": "e93d3a0a-2249-40db-b0ec-f776efa3c191",
   "metadata": {},
   "outputs": [
    {
     "data": {
      "text/plain": [
       "Array(0.00626608, dtype=float64)"
      ]
     },
     "execution_count": 9,
     "metadata": {},
     "output_type": "execute_result"
    }
   ],
   "source": [
    "arc_complete(a, b, z)"
   ]
  },
  {
   "cell_type": "code",
   "execution_count": 39,
   "id": "f2aa0d77-f73f-4e14-ad16-056c8b0101a6",
   "metadata": {},
   "outputs": [
    {
     "data": {
      "text/plain": [
       "[<matplotlib.lines.Line2D at 0x2b8cee0d0>]"
      ]
     },
     "execution_count": 39,
     "metadata": {},
     "output_type": "execute_result"
    },
    {
     "data": {
      "image/png": "[encoded data removed]",
      "text/plain": [
       "<Figure size 640x480 with 1 Axes>"
      ]
     },
     "metadata": {},
     "output_type": "display_data"
    }
   ],
   "source": [
    "a = 0.1\n",
    "b = 0.05\n",
    "z = 0.1\n",
    "x = jnp.linspace(-0.99999, 0.99999, 1000)\n",
    "plt.plot(x, arc(a, b, z, x, 0.99999))\n",
    "plt.plot(-1, arc_complete(a, b, z), 'o')"
   ]
  },
  {
   "cell_type": "code",
   "execution_count": null,
   "id": "35626197-3373-47b5-bd4d-64a721d1ebb1",
   "metadata": {},
   "outputs": [],
   "source": [
    "b1 = 1\n",
    "b4 = -1\n",
    "\n",
    "x = 0.0\n",
    "y = 1.0\n",
    "\n",
    "a = 0.1\n",
    "b = 0.05\n",
    "z = 0.6\n",
    "c = (a + b) * (a - b)\n",
    "\n",
    "f = (1 - a * a - z * z) / (c * c)\n",
    "g = -2 * b * z / (c * c)"
   ]
  },
  {
   "cell_type": "code",
   "execution_count": null,
   "id": "24ce9175-36be-4665-bbf7-32668808174b",
   "metadata": {},
   "outputs": [],
   "source": [
    "#def int23(y, x, f, g, b1, b4):\n",
    "\n",
    "x1 = jnp.sqrt(1 + b1 * x)\n",
    "x4 = jnp.sqrt(1 + b4 * x)\n",
    "\n",
    "y1 = jnp.sqrt(1 + b1 * y)\n",
    "y4 = jnp.sqrt(1 + b4 * y)\n",
    "\n",
    "xi = jnp.sqrt(f + g * x + x * x)\n",
    "eta = jnp.sqrt(f + g * y + y * y)\n",
    "\n",
    "del2 = 4 * f - g * g\n",
    "bet4 = g * b4 - 2\n",
    "bet1 = g * b1 - 2\n",
    "\n",
    "c1sq = 2 * f - 2 * g * b1 + 2\n",
    "c4sq = 2 * f - 2 * g * b4 + 2\n",
    "c14sq = -2 * f + 2\n",
    "c1c4 = jnp.sqrt(c1sq * c4sq)\n",
    "\n",
    "d14 = b4 - b1\n",
    "r14 = -d14\n",
    "\n",
    "A111m1 = x1 * xi / x4 - y1 * eta / y4\n",
    "A1111 = x1 * xi * x4 - y1 * eta * y4\n",
    "\n",
    "c3 = (r14 * r14 - c1sq + del2 + c4sq) / 8\n",
    "s = (r14 + bet4 / b4) / 8\n",
    "c2 = c4sq / (2 * b4)\n",
    "c1 = c1sq / (16 * b1) * (1 / b1 + 1 / b4 - g)\n",
    "\n",
    "M2 = (x1 * y4 + y1 * x4)**2 * (\n",
    "    2 * xi * eta + 2 * f + g * (x + y) + 2 * x * y\n",
    ") / (x - y)**2\n",
    "    \n",
    "Lp2 = M2 + c14sq + c1c4\n",
    "Lm2 = M2 + c14sq - c1c4\n",
    "U = (x1 * x4 * eta + y1 * y4 * xi) / (x - y)\n",
    "U2 = U * U\n",
    "W2 = U2 + 0.5 * c1sq\n",
    "Q2 = W2 / (x1 * y1)**2\n",
    "P2 = Q2 - 1\n",
    "rho = d14 * (bet1 - jnp.sqrt(2 * c1sq)) / b1\n",
    "erf = rf(M2, Lm2, Lp2)\n",
    "erj = rj_posp(M2, Lm2, Lp2, M2 + rho)\n",
    "erd = rd(M2, Lm2, Lp2)\n",
    "rcuw = rc_posy(U2, W2)\n",
    "rcpq = rc_posy(P2, Q2)\n",
    "\n",
    "I1 = 4 * erf\n",
    "I2 = (\n",
    "    (2 / 3) * jnp.sqrt(c1sq / c4sq)\n",
    "    * (4 * (c14sq + c1c4) * erd \n",
    "        - 6 * erf + 3 / U) \n",
    "    + 2 * x1 * y1 / (x4 * y4 * U)\n",
    ")\n",
    "I3p = (\n",
    "    jnp.sqrt(2 * c1sq / 9) \n",
    "    * (4 * rho * erj \n",
    "        - 6 * erf + 3 * rcuw) \n",
    "    + 2 * rcpq\n",
    ")\n",
    "\n",
    "integral = (\n",
    "    c3 * I3p \n",
    "    + s * (c2 * I2 + 2 * A111m1) \n",
    "    + c1 * I1 + A1111 / (2 * b4)\n",
    ")"
   ]
  },
  {
   "cell_type": "code",
   "execution_count": null,
   "id": "674b5186-c7e5-4773-9025-22c57c9e50c0",
   "metadata": {},
   "outputs": [],
   "source": [
    "integral"
   ]
  },
  {
   "cell_type": "code",
   "execution_count": null,
   "id": "62ffa8f4-ad0a-4f00-9e71-97f7e09f3f0d",
   "metadata": {},
   "outputs": [],
   "source": [
    "@jax.jit\n",
    "def ig(t, a, b, z):\n",
    "\n",
    "    x = (a * jnp.cos(t))**2 + (z + b * jnp.sin(t))**2\n",
    "    return a * (b + jnp.sin(t) * z) * (\n",
    "        1 - (1 - x) ** 1.5\n",
    "    ) / (3 * x)\n",
    "    \n",
    "def igt(t, a, b, z):\n",
    "\n",
    "    num = a * (b + t * z) * (1 - (1 - a * a * (1 - t * t) - (b * t + z)**2)**1.5)\n",
    "    den = 3 * jnp.sqrt(1 - t * t) * (a * a * (1 - t * t) + (b * t + z)**2)\n",
    "    return num / den "
   ]
  },
  {
   "cell_type": "code",
   "execution_count": null,
   "id": "90621e91-83c5-4f92-aba5-66d3734e90c7",
   "metadata": {},
   "outputs": [],
   "source": [
    "a = 0.5\n",
    "b = 0.4\n",
    "z = 0.65\n",
    "\n",
    "t = jnp.linspace(-1, 1, 1000)\n",
    "plt.plot(t, igt(t, a, b, z))"
   ]
  },
  {
   "cell_type": "code",
   "execution_count": null,
   "id": "f16f62ab-2555-4a8a-a4fb-264f33ab7d3c",
   "metadata": {},
   "outputs": [],
   "source": [
    "import matplotlib.pyplot as plt\n",
    "t = jnp.linspace(-2 * jnp.pi, 2 * jnp.pi, 100)\n",
    "plt.plot(t, ig(t, a, b, z))"
   ]
  },
  {
   "cell_type": "code",
   "execution_count": 35,
   "id": "574f6bc1-15f0-4ff8-98d8-9c83bf3d77bf",
   "metadata": {},
   "outputs": [],
   "source": [
    "@jax.jit\n",
    "def complete_integral2(a, b, z):\n",
    "    n = 5\n",
    "    ni = jnp.arange(n) + 1\n",
    "    twopi_n = 2 * jnp.pi / n\n",
    "    return twopi_n * jnp.sum(igv(twopi_n * ni, a, b, z)) / 2"
   ]
  },
  {
   "cell_type": "code",
   "execution_count": 36,
   "id": "ac8e1a84-d24e-4f49-b001-c4684d9ab6e2",
   "metadata": {},
   "outputs": [
    {
     "name": "stdout",
     "output_type": "stream",
     "text": [
      "0.006266075866827151\n"
     ]
    }
   ],
   "source": [
    "print(complete_integral2(a, b, z))"
   ]
  },
  {
   "cell_type": "code",
   "execution_count": null,
   "id": "be8fa2a4-7ed7-46dd-abbf-2ee6860f6fc8",
   "metadata": {},
   "outputs": [],
   "source": [
    "quad(igv, -jnp.pi / 2, jnp.pi / 2, args=(a, b, z))"
   ]
  },
  {
   "cell_type": "code",
   "execution_count": null,
   "id": "b146f870-e793-4478-83e1-26856c5e3e4b",
   "metadata": {},
   "outputs": [],
   "source": [
    "from integrals import *"
   ]
  },
  {
   "cell_type": "code",
   "execution_count": null,
   "id": "a03f94ee-03a9-4871-822a-a9f84ec3fe17",
   "metadata": {},
   "outputs": [],
   "source": [
    "y = jnp.array([-0.9] * 1)\n",
    "%timeit arc(a, b, z, y, 0.2)"
   ]
  },
  {
   "cell_type": "code",
   "execution_count": null,
   "id": "8ed1b95f-50e6-4173-9a13-e521247d7e70",
   "metadata": {},
   "outputs": [],
   "source": [
    "#t = jnp.linspace(\n",
    "t = jnp.linspace(-3.5, 2.2, 1000)\n",
    "plt.plot(t, ig(t, 0.8, 0.5, 0.8))"
   ]
  },
  {
   "cell_type": "code",
   "execution_count": null,
   "id": "962bae8a-8357-487e-ab84-7ffa75183ea9",
   "metadata": {},
   "outputs": [],
   "source": []
  }
 ],
 "metadata": {
  "kernelspec": {
   "display_name": "Python 3 (ipykernel)",
   "language": "python",
   "name": "python3"
  },
  "language_info": {
   "codemirror_mode": {
    "name": "ipython",
    "version": 3
   },
   "file_extension": ".py",
   "mimetype": "text/x-python",
   "name": "python",
   "nbconvert_exporter": "python",
   "pygments_lexer": "ipython3",
   "version": "3.11.6"
  }
 },
 "nbformat": 4,
 "nbformat_minor": 5
}
