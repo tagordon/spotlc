{
 "cells": [
  {
   "cell_type": "code",
   "execution_count": 1,
   "id": "05980e44-4b4a-440e-913e-ea3e337c451f",
   "metadata": {},
   "outputs": [],
   "source": [
    "import jax\n",
    "import jax.numpy as jnp\n",
    "#from integrate import *\n",
    "from scipy.integrate import quad\n",
    "import constant\n",
    "#import linear\n",
    "#import quadratic\n",
    "import arc\n",
    "import numpy as np\n",
    "\n",
    "def igv(t, a, b, z):\n",
    "\n",
    "    x = (a * jnp.cos(t))**2 + (z + b * jnp.sin(t))**2\n",
    "    return a * (b + jnp.sin(t) * z) * (\n",
    "        1 - (1 - x) ** 1.5\n",
    "    ) / (3 * x)\n",
    "\n",
    "def igv_circ(t, r, z):\n",
    "\n",
    "    x = z**2 + r**2 + 2 * r * z * jnp.sin(t)\n",
    "    return r * (r + jnp.sin(t) * z) * (\n",
    "        1 - (1 - x) ** 1.5\n",
    "    ) / (3 * x)\n",
    "\n",
    "def igv_const(t, a, b, z):\n",
    "\n",
    "    return 0.5 * a * (b + z * jnp.sin(t))\n",
    "\n",
    "def igv_quad(t, a, b, z):\n",
    "\n",
    "    return 0.25 * a * (b + z * jnp.sin(t)) * (a**2 * jnp.cos(t)**2 + (z + b * jnp.sin(t))**2)\n",
    "\n",
    "def igv_circ_const(t, r, z):\n",
    "\n",
    "    return 0.5 * r * (r + z * jnp.sin(t))\n",
    "\n",
    "def igv_circ_quad(t, r, z):\n",
    "\n",
    "    return 0.25 * r * (r + z * jnp.sin(t)) * (r**2 + z**2 + 2 * r * z * jnp.sin(t))\n",
    "\n",
    "def ellipse_arc_numerical(a, b, z, phi1, phi2):\n",
    "\n",
    "    return quad(igv, phi1, phi2, args=(a, b, z))[0]\n",
    "\n",
    "def circle_arc_numerical(r, z, phi1, phi2):\n",
    "\n",
    "    return quad(igv_circ, phi1, phi2, args=(r, z))[0]"
   ]
  },
  {
   "cell_type": "code",
   "execution_count": 54,
   "id": "66706995-fb7f-49bf-bdf5-25248cf420fa",
   "metadata": {},
   "outputs": [
    {
     "name": "stdout",
     "output_type": "stream",
     "text": [
      "29.2 µs ± 644 ns per loop (mean ± std. dev. of 7 runs, 10,000 loops each)\n"
     ]
    }
   ],
   "source": [
    "a = 0.3\n",
    "r = a\n",
    "b = 0.08\n",
    "z = 0.6\n",
    "\n",
    "phi1 = np.random.rand() * 2 * jnp.pi\n",
    "phi2 = np.random.rand() * (2 * jnp.pi - phi1) + phi1\n",
    "\n",
    "c1 = jnp.array([0.1, 0.1])\n",
    "c2 = jnp.array([0.5, 0.6])\n",
    "\n",
    "%timeit arc.ellipse_arc((c1, c2), a, b, z, phi1, phi2)"
   ]
  },
  {
   "cell_type": "code",
   "execution_count": null,
   "id": "cc0697cd-1252-478e-bef6-671f2ca2de94",
   "metadata": {},
   "outputs": [],
   "source": [
    "constant.G(a, b, z, phi1, phi2)"
   ]
  },
  {
   "cell_type": "code",
   "execution_count": null,
   "id": "5bc5974c-9e56-44b0-bed7-0c067ef2b3e6",
   "metadata": {},
   "outputs": [],
   "source": [
    "phi1, phi2"
   ]
  },
  {
   "cell_type": "code",
   "execution_count": null,
   "id": "6ff878d7-fe73-4978-8126-60dc7d9483e5",
   "metadata": {},
   "outputs": [],
   "source": [
    "a = 0.3\n",
    "r = a\n",
    "b = 0.08\n",
    "z = 0.6\n",
    "\n",
    "phi1 = np.random.rand() * 2 * jnp.pi\n",
    "phi2 = np.random.rand() * (2 * jnp.pi - phi1) + phi1\n",
    "\n",
    "print(quad(igv_const, phi1, phi2, args=(a, b, z))[0])\n",
    "print(constant.G(a, b, z, phi1, phi2))"
   ]
  },
  {
   "cell_type": "code",
   "execution_count": null,
   "id": "5909694d-e02c-432a-8eed-7b7e7768c476",
   "metadata": {},
   "outputs": [],
   "source": [
    "a = 0.3\n",
    "r = a\n",
    "b = 0.08\n",
    "z = 0.6\n",
    "\n",
    "phi1 = np.random.rand() * 2 * jnp.pi\n",
    "phi2 = np.random.rand() * (2 * jnp.pi - phi1) + phi1\n",
    "\n",
    "print(quad(igv_circ_const, phi1, phi2, args=(r, z))[0])\n",
    "print(constant.Gc(r, z, phi1, phi2))"
   ]
  },
  {
   "cell_type": "code",
   "execution_count": null,
   "id": "17767670-e445-4a7f-9a5f-9576c45fc927",
   "metadata": {},
   "outputs": [],
   "source": [
    "a = 0.3\n",
    "r = a\n",
    "b = 0.08\n",
    "z = 0.6\n",
    "\n",
    "phi1 = np.random.rand() * 2 * jnp.pi\n",
    "phi2 = np.random.rand() * (2 * jnp.pi - phi1) + phi1\n",
    "\n",
    "print(quad(igv_circ_quad, phi1, phi2, args=(r, z))[0])\n",
    "print(quadratic.Gc(r, z, phi1, phi2))"
   ]
  },
  {
   "cell_type": "code",
   "execution_count": null,
   "id": "f8f61c9a-3592-45ba-b7b0-6db65d4751c4",
   "metadata": {},
   "outputs": [],
   "source": [
    "a = 0.3\n",
    "r = a\n",
    "b = 0.08\n",
    "z = 0.6\n",
    "\n",
    "phi1 = np.random.rand() * 2 * jnp.pi\n",
    "phi2 = np.random.rand() * (2 * jnp.pi - phi1) + phi1\n",
    "\n",
    "print(quad(igv_quad, phi1, phi2, args=(a, b, z))[0])\n",
    "print(quadratic.G(a, b, z, phi1, phi2))"
   ]
  },
  {
   "cell_type": "code",
   "execution_count": null,
   "id": "169b0f45-f883-427c-838b-08c6a5f5ca31",
   "metadata": {},
   "outputs": [],
   "source": [
    "a = 0.3\n",
    "r = a\n",
    "b = 0.08\n",
    "z = 0.6\n",
    "\n",
    "phi1 = np.random.rand() * 2 * jnp.pi\n",
    "phi2 = np.random.rand() * (2 * jnp.pi - phi1) + phi1\n",
    "\n",
    "print(ellipse_arc_numerical(a, b, z, phi1, phi2))\n",
    "print(circle_arc_numerical(r, z, phi1, phi2))"
   ]
  },
  {
   "cell_type": "code",
   "execution_count": null,
   "id": "c0074ef0-9e2c-4f37-bd18-6ebfa4071828",
   "metadata": {},
   "outputs": [],
   "source": [
    "%time ellipse_arc(a, b, z, phi1, phi2)"
   ]
  },
  {
   "cell_type": "code",
   "execution_count": null,
   "id": "cb061d0d-8f39-4ced-8ca5-7de733b76ab7",
   "metadata": {},
   "outputs": [],
   "source": [
    "r = 0.3\n",
    "z = 0.6\n",
    "\n",
    "phi1 = np.random.rand() * 2 * jnp.pi\n",
    "phi2 = np.random.rand() * (2 * jnp.pi - phi1) + phi1\n",
    "\n",
    "%time circle_arc_numerical(r, z, phi1, phi2)"
   ]
  },
  {
   "cell_type": "code",
   "execution_count": null,
   "id": "05238f80-9978-40af-b39a-831426642acf",
   "metadata": {},
   "outputs": [],
   "source": [
    "%time circle_arc(r, z, phi1, phi2)"
   ]
  },
  {
   "cell_type": "code",
   "execution_count": null,
   "id": "5c104180-3a5b-4b6b-93dc-f72e39b7a93a",
   "metadata": {},
   "outputs": [],
   "source": [
    "import constant\n",
    "import linear\n",
    "import quadratic"
   ]
  },
  {
   "cell_type": "code",
   "execution_count": null,
   "id": "3659e20a-fff5-4d39-bbaf-3a3f8862ffb5",
   "metadata": {},
   "outputs": [],
   "source": []
  }
 ],
 "metadata": {
  "kernelspec": {
   "display_name": "Python 3 (ipykernel)",
   "language": "python",
   "name": "python3"
  },
  "language_info": {
   "codemirror_mode": {
    "name": "ipython",
    "version": 3
   },
   "file_extension": ".py",
   "mimetype": "text/x-python",
   "name": "python",
   "nbconvert_exporter": "python",
   "pygments_lexer": "ipython3",
   "version": "3.11.6"
  }
 },
 "nbformat": 4,
 "nbformat_minor": 5
}
