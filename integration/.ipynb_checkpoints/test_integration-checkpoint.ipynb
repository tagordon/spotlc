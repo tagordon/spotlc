{
 "cells": [
  {
   "cell_type": "code",
   "execution_count": 1,
   "id": "05980e44-4b4a-440e-913e-ea3e337c451f",
   "metadata": {},
   "outputs": [],
   "source": [
    "import jax\n",
    "import jax.numpy as jnp\n",
    "from scipy.integrate import quad\n",
    "import integration\n",
    "import numpy as np\n",
    "\n",
    "def igv(t, a, b, z):\n",
    "\n",
    "    x = (a * jnp.cos(t))**2 + (z + b * jnp.sin(t))**2\n",
    "    return a * (b + jnp.sin(t) * z) * (\n",
    "        1 - (1 - x) ** 1.5\n",
    "    ) / (3 * x)\n",
    "\n",
    "def igv_circ(t, r, z):\n",
    "\n",
    "    x = z**2 + r**2 + 2 * r * z * jnp.sin(t)\n",
    "    return r * (r + jnp.sin(t) * z) * (\n",
    "        1 - (1 - x) ** 1.5\n",
    "    ) / (3 * x)\n",
    "\n",
    "def igv_const(t, a, b, z):\n",
    "\n",
    "    return 0.5 * a * (b + z * jnp.sin(t))\n",
    "\n",
    "def igv_quad(t, a, b, z):\n",
    "\n",
    "    return 0.25 * a * (b + z * jnp.sin(t)) * (a**2 * jnp.cos(t)**2 + (z + b * jnp.sin(t))**2)\n",
    "\n",
    "def igv_circ_const(t, r, z):\n",
    "\n",
    "    return 0.5 * r * (r + z * jnp.sin(t))\n",
    "\n",
    "def igv_circ_quad(t, r, z):\n",
    "\n",
    "    return 0.25 * r * (r + z * jnp.sin(t)) * (r**2 + z**2 + 2 * r * z * jnp.sin(t))\n",
    "\n",
    "def ellipse_arc_numerical(a, b, z, phi1, phi2):\n",
    "\n",
    "    return quad(igv, phi1, phi2, args=(a, b, z))[0]\n",
    "\n",
    "def circle_arc_numerical(r, z, phi1, phi2):\n",
    "\n",
    "    return quad(igv_circ, phi1, phi2, args=(r, z))[0]"
   ]
  },
  {
   "cell_type": "code",
   "execution_count": 15,
   "id": "66706995-fb7f-49bf-bdf5-25248cf420fa",
   "metadata": {},
   "outputs": [
    {
     "name": "stdout",
     "output_type": "stream",
     "text": [
      "CPU times: user 129 ms, sys: 5.38 ms, total: 135 ms\n",
      "Wall time: 137 ms\n"
     ]
    },
    {
     "data": {
      "image/png": "[encoded data removed]",
      "text/plain": [
       "<Figure size 640x480 with 1 Axes>"
      ]
     },
     "metadata": {},
     "output_type": "display_data"
    }
   ],
   "source": [
    "import matplotlib.pyplot as plt\n",
    "\n",
    "n = 10000\n",
    "\n",
    "z = jnp.linspace(0.0, 0.7, n)\n",
    "\n",
    "a = 0.3 * jnp.ones_like(z)\n",
    "r = a\n",
    "b = 0.08 * jnp.ones_like(z)\n",
    "\n",
    "phi1 = np.random.rand() * 2 * jnp.pi\n",
    "phi2 = np.random.rand() * (2 * jnp.pi - phi1) + phi1\n",
    "\n",
    "lims = jnp.array([phi1 * jnp.ones(n), phi2 * jnp.ones(n)])\n",
    "\n",
    "nc = 5\n",
    "c1 = np.random.rand(nc)\n",
    "c2 = np.random.rand(nc)\n",
    "\n",
    "%time f = 1 - integration.ellipse_arc_batch((c1, c2), a, b, z, lims)\n",
    "plt.plot(z, f);"
   ]
  },
  {
   "cell_type": "code",
   "execution_count": null,
   "id": "3a39d032-1aab-4bc5-add4-b68dcb156651",
   "metadata": {},
   "outputs": [],
   "source": [
    "c1 = jnp.array([0.5, 0.6])\n",
    "c2 = jnp.array([0.3, 0.3])\n",
    "c = jnp.vstack([c1, c2])\n",
    "\n",
    "f = 1 - integration.ellipse_arc_batch(c, a, b, z, lims)"
   ]
  },
  {
   "cell_type": "code",
   "execution_count": null,
   "id": "6ff878d7-fe73-4978-8126-60dc7d9483e5",
   "metadata": {},
   "outputs": [],
   "source": [
    "import constant\n",
    "a = 0.3\n",
    "r = a\n",
    "b = 0.08\n",
    "z = 0.6\n",
    "\n",
    "phi1 = np.random.rand() * 2 * jnp.pi\n",
    "phi2 = np.random.rand() * (2 * jnp.pi - phi1) + phi1\n",
    "\n",
    "print(quad(igv_const, phi1, phi2, args=(a, b, z))[0])\n",
    "print(constant.G(a, b, z, phi1, phi2))"
   ]
  },
  {
   "cell_type": "code",
   "execution_count": null,
   "id": "5909694d-e02c-432a-8eed-7b7e7768c476",
   "metadata": {},
   "outputs": [],
   "source": [
    "a = 0.3\n",
    "r = a\n",
    "b = 0.08\n",
    "z = 0.6\n",
    "\n",
    "phi1 = np.random.rand() * 2 * jnp.pi\n",
    "phi2 = np.random.rand() * (2 * jnp.pi - phi1) + phi1\n",
    "\n",
    "print(quad(igv_circ_const, phi1, phi2, args=(r, z))[0])\n",
    "print(constant.Gc(r, z, phi1, phi2))"
   ]
  },
  {
   "cell_type": "code",
   "execution_count": null,
   "id": "17767670-e445-4a7f-9a5f-9576c45fc927",
   "metadata": {},
   "outputs": [],
   "source": [
    "import quadratic \n",
    "\n",
    "a = 0.3\n",
    "r = a\n",
    "b = 0.08\n",
    "z = 0.6\n",
    "\n",
    "phi1 = np.random.rand() * 2 * jnp.pi\n",
    "phi2 = np.random.rand() * (2 * jnp.pi - phi1) + phi1\n",
    "\n",
    "print(quad(igv_circ_quad, phi1, phi2, args=(r, z))[0])\n",
    "print(quadratic.Gc(r, z, phi1, phi2))"
   ]
  },
  {
   "cell_type": "code",
   "execution_count": null,
   "id": "f8f61c9a-3592-45ba-b7b0-6db65d4751c4",
   "metadata": {},
   "outputs": [],
   "source": [
    "a = 0.3\n",
    "r = a\n",
    "b = 0.08\n",
    "z = 0.6\n",
    "\n",
    "phi1 = np.random.rand() * 2 * jnp.pi\n",
    "phi2 = np.random.rand() * (2 * jnp.pi - phi1) + phi1\n",
    "\n",
    "print(quad(igv_quad, phi1, phi2, args=(a, b, z))[0])\n",
    "print(quadratic.G(a, b, z, phi1, phi2))"
   ]
  },
  {
   "cell_type": "code",
   "execution_count": null,
   "id": "169b0f45-f883-427c-838b-08c6a5f5ca31",
   "metadata": {},
   "outputs": [],
   "source": [
    "a = 0.3\n",
    "r = a\n",
    "b = 0.08\n",
    "z = 0.6\n",
    "\n",
    "phi1 = np.random.rand() * 2 * jnp.pi\n",
    "phi2 = np.random.rand() * (2 * jnp.pi - phi1) + phi1\n",
    "\n",
    "print(ellipse_arc_numerical(a, b, z, phi1, phi2))\n",
    "print(circle_arc_numerical(r, z, phi1, phi2))"
   ]
  },
  {
   "cell_type": "code",
   "execution_count": null,
   "id": "c0074ef0-9e2c-4f37-bd18-6ebfa4071828",
   "metadata": {},
   "outputs": [],
   "source": [
    "%time integration.ellipse_arc((0.1, 0.2), a, b, z, (phi1, phi2))"
   ]
  },
  {
   "cell_type": "code",
   "execution_count": null,
   "id": "cb061d0d-8f39-4ced-8ca5-7de733b76ab7",
   "metadata": {},
   "outputs": [],
   "source": [
    "r = 0.3\n",
    "z = 0.6\n",
    "\n",
    "phi1 = np.random.rand() * 2 * jnp.pi\n",
    "phi2 = np.random.rand() * (2 * jnp.pi - phi1) + phi1\n",
    "\n",
    "%time circle_arc_numerical(r, z, phi1, phi2)"
   ]
  },
  {
   "cell_type": "code",
   "execution_count": null,
   "id": "05238f80-9978-40af-b39a-831426642acf",
   "metadata": {},
   "outputs": [],
   "source": [
    "# check complete circle and ellipse with 2d numerical integration \n",
    "\n",
    "a = 0.3\n",
    "r = a\n",
    "b = 0.2\n",
    "z = 0.4\n",
    "\n",
    "c1 = 0.2\n",
    "c2 = 0.4\n",
    "\n",
    "#integration.ellipse_arc_batch((c1, c2), a, b, z, lims)\n",
    "\n",
    "in_ellipse = jax.vmap(jax.jit(lambda xy: xy[0]**2 / a**2 + (xy[1] - z)**2 / b**2 < 1))\n",
    "\n",
    "@jax.jit\n",
    "def intensity_func(xy, c1, c2): \n",
    "\n",
    "    x, y = xy\n",
    "    mu = jnp.sqrt(1 - x**2 - y**2)\n",
    "    return 1 - c1 * (1 - mu) - c2 * (1 - mu)**2\n",
    "\n",
    "intensity = jax.vmap(intensity_func, in_axes=(0, None, None))\n",
    "\n",
    "n = 1000\n",
    "grid = jnp.meshgrid(jnp.linspace(-a, a, n), jnp.linspace(z - b, z + b, n))\n",
    "coords = jnp.vstack([grid[0].flatten(), grid[1].flatten()]).T\n",
    "%time jnp.sum(in_ellipse(coords) * intensity(coords, c1, c2)) * (4 * a * b) / (n * n)"
   ]
  },
  {
   "cell_type": "code",
   "execution_count": null,
   "id": "3ebd219b-ed49-40bd-bca7-08de7c2a5cb5",
   "metadata": {},
   "outputs": [],
   "source": [
    "%time integration.ellipse_full((0.3, 0.3), a, b, z)"
   ]
  },
  {
   "cell_type": "code",
   "execution_count": null,
   "id": "69e86392-0a3b-43e7-ab04-f31a9fbb39f8",
   "metadata": {},
   "outputs": [],
   "source": [
    "jax.grad(integration.ellipse_full)((0.1, 0.2), a, b, z)"
   ]
  },
  {
   "cell_type": "code",
   "execution_count": null,
   "id": "112dc33e-9d87-4598-b922-7aef908c7a26",
   "metadata": {},
   "outputs": [],
   "source": [
    "jax.grad(integration.ell, argnums=(0, 1, 2, 3, 4))((c1, c2), a, b, z, (0.0, 2 * jnp.pi))"
   ]
  },
  {
   "cell_type": "code",
   "execution_count": null,
   "id": "2c0d8358-c4fb-43bf-9e27-4cc025017a2b",
   "metadata": {},
   "outputs": [],
   "source": []
  }
 ],
 "metadata": {
  "kernelspec": {
   "display_name": "Python 3 (ipykernel)",
   "language": "python",
   "name": "python3"
  },
  "language_info": {
   "codemirror_mode": {
    "name": "ipython",
    "version": 3
   },
   "file_extension": ".py",
   "mimetype": "text/x-python",
   "name": "python",
   "nbconvert_exporter": "python",
   "pygments_lexer": "ipython3",
   "version": "3.11.6"
  }
 },
 "nbformat": 4,
 "nbformat_minor": 5
}
