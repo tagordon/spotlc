{
 "cells": [
  {
   "cell_type": "code",
   "execution_count": 1,
   "id": "ff243614-63e2-473a-9810-0b8979a654a0",
   "metadata": {},
   "outputs": [],
   "source": [
    "import jax\n",
    "from jax import numpy as jnp\n",
    "from carlson import rfv, rjpv, rcpv, rdv, rf, rj_posp, rc_posy, rd, rf\n",
    "from scipy.integrate import quad"
   ]
  },
  {
   "cell_type": "code",
   "execution_count": 187,
   "id": "7c9d766f-4e7f-4e58-b7a1-9179007bed80",
   "metadata": {},
   "outputs": [],
   "source": [
    "# [1, 1, 1, -2]\n",
    "\n",
    "def int23(r, z, y, x, a4, b4):\n",
    "\n",
    "    a3 = (1 - (r**2 + z**2)) / (2 * r * z)\n",
    "    \n",
    "    d12 = -2\n",
    "    d13 = -1 - a3\n",
    "    d14 = b4 - a4\n",
    "    d24 = b4 + a4\n",
    "    d34 = a3 * b4 + a4\n",
    "\n",
    "    r24 = -d24 / b4\n",
    "    r14 = d14 / b4\n",
    "    r34 = - d34 / b4\n",
    "\n",
    "    x1 = jnp.sqrt(1 + x)\n",
    "    x2 = jnp.sqrt(1 - x)\n",
    "    x3 = jnp.sqrt(a3 - x)\n",
    "    x4 = jnp.sqrt(a4 + b4 * x)\n",
    "\n",
    "    y1 = jnp.sqrt(1 + y)\n",
    "    y2 = jnp.sqrt(1 -  y)\n",
    "    y3 = jnp.sqrt(a3 - y)\n",
    "    y4 = jnp.sqrt(a4 + b4 * y)\n",
    "\n",
    "    U1 = (x1 * y2 * y3 + y1 * x2 * x3) / (x - y)\n",
    "    U2 = (x2 * y1 * y3 + y2 * x1 * x3) / (x - y)\n",
    "    U3 = (x3 * y1 * y2 + y3 * x1 * x2) / (x - y)\n",
    "\n",
    "    W2 = U1 * U1 - b4 * d12 * d13 / d14\n",
    "    Q2 = (x4 * y4 / (x1 * y1))**2 * W2\n",
    "    P2 = Q2 + b4 * d24 * d34 / d14\n",
    "\n",
    "    I1c = 2 * rf(U3 * U3, U2 * U2, U1 * U1)\n",
    "    I2c = (2 / 3) * d12 * d13 * rd(U3 * U3, U2 * U2, U1 * U1) + 2 * x1 * y1 / U1\n",
    "    I3c = -2 * d12 * d13 / (3 * d14) * rj_posp(U3 * U3, U2 * U2, U1 * U1, W2) + 2 * rc_posy(P2, Q2)\n",
    "\n",
    "    A111 = x1 * x2 * x3 - y1 * y2 * y3\n",
    "    J1c = d12 * d13 * I1c - 2 * A111\n",
    "\n",
    "    return (\n",
    "        - 3 * r24 * d34 * I3c \n",
    "        + (r14 + r24 + r34) * I2c \n",
    "        - J1c\n",
    "    ) / (3 * b4)\n",
    "\n",
    "def g2_circ(r, z, y, x):\n",
    "\n",
    "    fac = r * (1 + r + z) * (r + z - 1) * jnp.sqrt(r * z / 2) / (3 * (r + z))\n",
    "    return fac * int23(r, z, y, x, 1, -1)\n",
    "\n",
    "def g3_circ(r, z, y, x):\n",
    "\n",
    "    a4 = (r * r + z * z) / (2 * r * z)\n",
    "    fac = 2 * r * r * z * z / jnp.sqrt(2 * r * z) / (3 * (r + z) * (r - z))\n",
    "    return fac * int23(r, z, y, x, a4, 1)\n",
    "\n",
    "def ig2_num(t, r, z):\n",
    "\n",
    "    num = -r * jnp.sqrt(1 - t * t) * (r + z - 1) * (r + z + 1) * jnp.sqrt(1 - r * r - 2 * r * t * z - z * z)\n",
    "    den = 6 * (t - 1) * (r + z)\n",
    "    return num / den\n",
    "\n",
    "def ig3_num(t, r, z):\n",
    "\n",
    "    num = 2 * r * r * z * z * jnp.sqrt(1 - t * t) * jnp.sqrt(1 - r * r - 2 * r * t * z - z * z)\n",
    "    den = 3 * (r - z) * (r + z) * (r * r + 2 * r * t * z + z * z)\n",
    "    return num / den"
   ]
  },
  {
   "cell_type": "code",
   "execution_count": 188,
   "id": "ec476e99-36e2-4c24-a8fc-36114fa0dfc1",
   "metadata": {},
   "outputs": [
    {
     "data": {
      "text/plain": [
       "Array(-2.77555756e-17, dtype=float64)"
      ]
     },
     "execution_count": 188,
     "metadata": {},
     "output_type": "execute_result"
    }
   ],
   "source": [
    "g2_circ(0.3, 0.1, -0.2, 0.5) - quad(ig2_num, -0.2, 0.5, args=(0.3, 0.1))[0]"
   ]
  },
  {
   "cell_type": "code",
   "execution_count": 189,
   "id": "6f4da33c-1f4b-401d-b639-095e0c4bcce6",
   "metadata": {},
   "outputs": [
    {
     "data": {
      "text/plain": [
       "Array(1.04083409e-17, dtype=float64)"
      ]
     },
     "execution_count": 189,
     "metadata": {},
     "output_type": "execute_result"
    }
   ],
   "source": [
    "g3_circ(0.1, 0.4, -0.2, 0.5) - quad(ig3_num, -0.2, 0.5, args=(0.1, 0.4))[0]"
   ]
  },
  {
   "cell_type": "code",
   "execution_count": 200,
   "id": "092312e6-61ec-4af1-bb3a-1122fc8b7f24",
   "metadata": {},
   "outputs": [],
   "source": [
    "# [1, 1, -1]\n",
    "\n",
    "def int1(r, z, y, x):\n",
    "\n",
    "    a2 = (1 - (r**2 + z**2)) / (2 * r * z)\n",
    "    \n",
    "    d12 = a2 - 1\n",
    "    d13 = 2\n",
    "    d23 = a2 + 1\n",
    "\n",
    "    x1 = jnp.sqrt(1 - x)\n",
    "    x2 = jnp.sqrt(a2 - x)\n",
    "    x3 = jnp.sqrt(1 + x)\n",
    "\n",
    "    y1 = jnp.sqrt(1 - y)\n",
    "    y2 = jnp.sqrt(a2 - y)\n",
    "    y3 = jnp.sqrt(1 + y)\n",
    "\n",
    "    U1 = (x1 * y2 * y3 + y1 * x2 * x3) / (x - y)\n",
    "    U2 = (x2 * y1 * y3 + y2 * x1 * x3) / (x - y)\n",
    "    U3 = (x3 * y1 * y2 + y3 * x1 * x2) / (x - y)\n",
    "\n",
    "    I1c = 2 * rf(U3 * U3, U2 * U2, U1 * U1)\n",
    "    I2c = (2 / 3) * d12 * d13 * rd(U3 * U3, U2 * U2, U1 * U1) + 2 * x1 * y1 / U1\n",
    "\n",
    "    A111 = x1 * x2 * x3 - y1 * y2 * y3\n",
    "    J1c = d12 * d13 * I1c + 2 * A111\n",
    "\n",
    "    return ((d23 + d13) * I2c + J1c) / 3\n",
    "\n",
    "def g1_circ(r, z, y, x):\n",
    "\n",
    "    fac = r * (r - z + 1) * (r - z - 1) / (6 * (r - z)) * jnp.sqrt(2 * r * z)\n",
    "    return fac * int1(r, z, y, x)\n",
    "\n",
    "def ig1_num(t, r, z):\n",
    "\n",
    "    num = r * jnp.sqrt(1 - t) * (r - z + 1) * (r - z - 1) * jnp.sqrt(1 - r * r - 2 * r * t * z - z * z)\n",
    "    den = 6 * jnp.sqrt(1 + t) * (r - z)\n",
    "    return num / den\n",
    "\n",
    "def ig1_num_nofac(t, r, z):\n",
    "\n",
    "    return jnp.sqrt(1 - t) * jnp.sqrt(-t + (1 - (r**2 + z**2)) / (2 * r * z)) / jnp.sqrt(1 + t)\n",
    "    "
   ]
  },
  {
   "cell_type": "code",
   "execution_count": 201,
   "id": "d31bcf5e-4788-4ecf-beab-ca3745e1aeb6",
   "metadata": {},
   "outputs": [
    {
     "data": {
      "text/plain": [
       "Array(2.77555756e-17, dtype=float64)"
      ]
     },
     "execution_count": 201,
     "metadata": {},
     "output_type": "execute_result"
    }
   ],
   "source": [
    "g1_circ(0.3, 0.1, -0.2, 0.5) - quad(ig1_num, -0.2, 0.5, args=(0.3, 0.1))[0]"
   ]
  },
  {
   "cell_type": "code",
   "execution_count": 242,
   "id": "9bac1703-20a0-4232-87a6-58950076f50d",
   "metadata": {},
   "outputs": [],
   "source": [
    "def g0_circ(r, z, y, x):\n",
    "\n",
    "    fac = r / (6 * (r + z) * (r - z))\n",
    "    fx = jnp.arctan((x + z / r) / jnp.sqrt(1 - x * x))\n",
    "    fy = jnp.arctan((y + z / r) / jnp.sqrt(1 - y * y))\n",
    "    return (fx - fy) / 3"
   ]
  },
  {
   "cell_type": "code",
   "execution_count": 243,
   "id": "33ea9ed2-16da-4c7a-b10e-3f4124eca222",
   "metadata": {},
   "outputs": [
    {
     "data": {
      "text/plain": [
       "Array(0.21030356, dtype=float64, weak_type=True)"
      ]
     },
     "execution_count": 243,
     "metadata": {},
     "output_type": "execute_result"
    }
   ],
   "source": [
    "g0_circ(0.3, 0.1, -0.2, 0.5)"
   ]
  },
  {
   "cell_type": "code",
   "execution_count": 244,
   "id": "b41cb4a8-fc01-42bc-883e-fc5d0b5e1ca9",
   "metadata": {},
   "outputs": [],
   "source": [
    "def ig0_num(t, r, z):\n",
    "\n",
    "    num = r * (r + t * z)\n",
    "    den = 3 * jnp.sqrt(1 - t * t) * (r**2 + z**2 + 2 * r * t * z)\n",
    "    return num / den"
   ]
  },
  {
   "cell_type": "code",
   "execution_count": 245,
   "id": "8e02a059-f57d-4505-9b80-613913668e47",
   "metadata": {},
   "outputs": [
    {
     "data": {
      "text/plain": [
       "(0.21030356381637613, 2.3348385870966674e-15)"
      ]
     },
     "execution_count": 245,
     "metadata": {},
     "output_type": "execute_result"
    }
   ],
   "source": [
    "quad(ig0_num, -0.2, 0.5, args=(0.3, 0.1))"
   ]
  },
  {
   "cell_type": "code",
   "execution_count": 284,
   "id": "9e441da6-bf57-4527-8f21-9722ea8e8e6c",
   "metadata": {},
   "outputs": [
    {
     "data": {
      "text/plain": [
       "(0.033365399988630626, 3.704303529320566e-16)"
      ]
     },
     "execution_count": 284,
     "metadata": {},
     "output_type": "execute_result"
    }
   ],
   "source": [
    "def gfull_num(t, r, z):\n",
    "\n",
    "    num = r * (r + t * z) * (1 - (1 - r**2 - z**2 - 2 * r * t * z)**1.5)\n",
    "    den = 3 * jnp.sqrt(1 - t * t) * (r**2 + 2 * t * r * z + z**2)\n",
    "    return num / den\n",
    "\n",
    "quad(gfull_num, -0.2, 0.5, args=(0.3, 0.1))"
   ]
  },
  {
   "cell_type": "code",
   "execution_count": 279,
   "id": "5370ac49-5cfa-49dd-a461-abc570c1d872",
   "metadata": {},
   "outputs": [
    {
     "data": {
      "text/plain": [
       "Array(0.0333654, dtype=float64)"
      ]
     },
     "execution_count": 279,
     "metadata": {},
     "output_type": "execute_result"
    }
   ],
   "source": [
    "args = 0.3, 0.1, -0.2, 0.5\n",
    "g0_circ(*args) + g1_circ(*args) + g2_circ(*args) + g3_circ(*args)"
   ]
  },
  {
   "cell_type": "code",
   "execution_count": 280,
   "id": "0a420bb6-ceb7-41f5-8d34-8f5fde2dfd97",
   "metadata": {},
   "outputs": [
    {
     "data": {
      "text/plain": [
       "Array(0.04472227, dtype=float64)"
      ]
     },
     "execution_count": 280,
     "metadata": {},
     "output_type": "execute_result"
    }
   ],
   "source": [
    "g3_circ(*args)"
   ]
  },
  {
   "cell_type": "code",
   "execution_count": 281,
   "id": "0af303ed-1391-4750-91ee-391fb57cb80b",
   "metadata": {},
   "outputs": [],
   "source": [
    "gfull_parts_num = lambda t, r, z: ig0_num(t, r, z) + ig1_num(t, r, z) + ig2_num(t, r, z) + ig3_num(t, r, z)"
   ]
  },
  {
   "cell_type": "code",
   "execution_count": 282,
   "id": "2b9e69e3-bea9-4345-bcb7-633951e8e1ee",
   "metadata": {},
   "outputs": [
    {
     "data": {
      "text/plain": [
       "(0.03336539998863062, 3.704303529320565e-16)"
      ]
     },
     "execution_count": 282,
     "metadata": {},
     "output_type": "execute_result"
    }
   ],
   "source": [
    "quad(gfull_parts_num, -0.2, 0.5, args=(0.3, 0.1))"
   ]
  },
  {
   "cell_type": "code",
   "execution_count": null,
   "id": "6fe4e459-cbf1-415d-b67a-fdc7f2f327a8",
   "metadata": {},
   "outputs": [],
   "source": []
  }
 ],
 "metadata": {
  "kernelspec": {
   "display_name": "Python 3 (ipykernel)",
   "language": "python",
   "name": "python3"
  },
  "language_info": {
   "codemirror_mode": {
    "name": "ipython",
    "version": 3
   },
   "file_extension": ".py",
   "mimetype": "text/x-python",
   "name": "python",
   "nbconvert_exporter": "python",
   "pygments_lexer": "ipython3",
   "version": "3.11.6"
  }
 },
 "nbformat": 4,
 "nbformat_minor": 5
}
