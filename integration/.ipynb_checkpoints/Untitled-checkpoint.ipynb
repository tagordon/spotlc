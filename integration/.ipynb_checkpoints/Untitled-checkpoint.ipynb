{
 "cells": [
  {
   "cell_type": "code",
   "execution_count": 291,
   "id": "5bd7a20f-609c-44da-8136-2acab2f7cfe6",
   "metadata": {},
   "outputs": [],
   "source": [
    "import jax\n",
    "from jax import numpy as jnp\n",
    "from jax import config\n",
    "config.update(\"jax_enable_x64\", True)\n",
    "\n",
    "# relative error will be \"less in magnitude than r\" \n",
    "r = 1.0e-15\n",
    "\n",
    "@jax.jit \n",
    "def rf(x, y, z):\n",
    "    \n",
    "    xyz = jnp.array([x, y, z])\n",
    "    A0 = jnp.sum(xyz) / 3.0\n",
    "    v = jnp.max(jnp.abs(A0 - xyz))\n",
    "    Q = (3 * r) ** (-1 / 6) * v\n",
    "\n",
    "    cond = lambda s: s['f'] * Q > jnp.abs(s['An'])\n",
    "\n",
    "    def body(s):\n",
    "\n",
    "        xyz = s['xyz']\n",
    "        lam = (\n",
    "            jnp.sqrt(xyz[0]*xyz[1]) \n",
    "            + jnp.sqrt(xyz[0]*xyz[2]) \n",
    "            + jnp.sqrt(xyz[1]*xyz[2])\n",
    "        )\n",
    "\n",
    "        s['An'] = 0.25 * (s['An'] + lam)\n",
    "        s['xyz'] = 0.25 * (s['xyz'] + lam)\n",
    "        s['f'] = s['f'] * 0.25\n",
    "\n",
    "        return s\n",
    "\n",
    "    s = {'f': 1, 'An':A0, 'xyz':xyz}\n",
    "    s = jax.lax.while_loop(cond, body, s)\n",
    "\n",
    "    x = (A0 - x) / s['An'] * s['f']\n",
    "    y = (A0 - y) / s['An'] * s['f']\n",
    "    z = -(x + y)\n",
    "    E2 = x * y - z * z\n",
    "    E3 = x * y * z\n",
    "\n",
    "    return (\n",
    "        1 \n",
    "        - 0.1 * E2 \n",
    "        + E3 / 14 \n",
    "        + E2 * E2 / 24 \n",
    "        - 3 * E2 * E3 / 44\n",
    "    ) / jnp.sqrt(s['An'])\n",
    "\n",
    "@jax.jit \n",
    "def rf_unrolled(x, y, z):\n",
    "    \n",
    "    xyz = jnp.array([x, y, z])\n",
    "    A0 = jnp.sum(xyz) / 3.0\n",
    "    sqr_xyz = jnp.sqrt(xyz)\n",
    "    An = A0\n",
    "\n",
    "    for i in range(5):\n",
    "\n",
    "        lam = (\n",
    "            sqr_xyz[0] * (sqr_xyz[1] + sqr_xyz[2]) \n",
    "            + sqr_xyz[1] * sqr_xyz[2]\n",
    "        )\n",
    "\n",
    "        An = 0.25 * (An + lam)\n",
    "        sqr_xyz = jnp.sqrt(0.25 * (sqr_xyz**2 + lam))\n",
    "\n",
    "    lam = (\n",
    "        sqr_xyz[0] * (sqr_xyz[1] + sqr_xyz[2]) \n",
    "        + sqr_xyz[1] * sqr_xyz[2]\n",
    "    )\n",
    "\n",
    "    m = 1 / (An + lam) * 0.0009765625\n",
    "\n",
    "    x = (A0 - x) * m\n",
    "    y = (A0 - y) * m\n",
    "    z = -(x + y)\n",
    "    E2 = x * y - z * z\n",
    "    E3 = x * y * z\n",
    "\n",
    "    return (\n",
    "        1 \n",
    "        #- 0.1 * E2 \n",
    "        + E3 / 14 \n",
    "        + E2 * (E2 / 24 - 3 * E3 / 44 - 0.1)\n",
    "    ) / jnp.sqrt(An)"
   ]
  },
  {
   "cell_type": "code",
   "execution_count": 292,
   "id": "94a5ef4c-d401-41e1-862c-17fbb14b0d05",
   "metadata": {},
   "outputs": [
    {
     "data": {
      "text/plain": [
       "0.0009765625"
      ]
     },
     "execution_count": 292,
     "metadata": {},
     "output_type": "execute_result"
    }
   ],
   "source": [
    "0.25 ** 5"
   ]
  },
  {
   "cell_type": "code",
   "execution_count": 294,
   "id": "494c5777-2928-41ce-bd05-54c57ead3b2b",
   "metadata": {},
   "outputs": [
    {
     "data": {
      "text/plain": [
       "Array(2.29880483, dtype=float64)"
      ]
     },
     "execution_count": 294,
     "metadata": {},
     "output_type": "execute_result"
    }
   ],
   "source": [
    "rf_unrolled(0.1, 0.2, 0.3)"
   ]
  },
  {
   "cell_type": "code",
   "execution_count": 296,
   "id": "1ef95fbf-49d7-4909-90ad-b96ca0e7973a",
   "metadata": {},
   "outputs": [
    {
     "name": "stdout",
     "output_type": "stream",
     "text": [
      "11.6 ms ± 661 µs per loop (mean ± std. dev. of 7 runs, 100 loops each)\n",
      "6.56 ms ± 957 µs per loop (mean ± std. dev. of 7 runs, 100 loops each)\n"
     ]
    }
   ],
   "source": [
    "n = 100000\n",
    "%timeit jax.vmap(rf)(0.1 * jnp.ones(n), 0.2 * jnp.ones(n), 0.3 * jnp.ones(n))\n",
    "%timeit jax.vmap(rf_unrolled)(0.1 * jnp.ones(n), 0.2 * jnp.ones(n), 0.3 * jnp.ones(n))"
   ]
  },
  {
   "cell_type": "code",
   "execution_count": 6,
   "id": "20943f65-e6d2-436b-b5ac-d8a1029a310f",
   "metadata": {},
   "outputs": [
    {
     "name": "stdout",
     "output_type": "stream",
     "text": [
      "2.2988048918835324\n"
     ]
    }
   ],
   "source": []
  },
  {
   "cell_type": "code",
   "execution_count": 267,
   "id": "bf89dbbf-5e7e-4776-ac04-8fab383889f6",
   "metadata": {},
   "outputs": [
    {
     "data": {
      "text/plain": [
       "Array(1.77635684e-15, dtype=float64)"
      ]
     },
     "execution_count": 267,
     "metadata": {},
     "output_type": "execute_result"
    }
   ],
   "source": [
    "import numpy as np\n",
    "x = np.random.rand(10000)\n",
    "y = np.random.rand(10000)\n",
    "z = np.random.rand(10000)\n",
    "jnp.max(jax.vmap(rf)(x, y, z) - jax.vmap(rf_unrolled)(x, y, z))\n",
    "#jnp.max(jax.vmap(rf, in_axes=(0, 0, None))(x, y, 0.000000001) - jax.vmap(rf_unrolled, in_axes=(0, 0, None))(x, y, 0.000000001))"
   ]
  },
  {
   "cell_type": "code",
   "execution_count": null,
   "id": "44259c9c-8fd6-4f66-8341-3ed053989d63",
   "metadata": {},
   "outputs": [],
   "source": []
  }
 ],
 "metadata": {
  "kernelspec": {
   "display_name": "Python 3 (ipykernel)",
   "language": "python",
   "name": "python3"
  },
  "language_info": {
   "codemirror_mode": {
    "name": "ipython",
    "version": 3
   },
   "file_extension": ".py",
   "mimetype": "text/x-python",
   "name": "python",
   "nbconvert_exporter": "python",
   "pygments_lexer": "ipython3",
   "version": "3.11.6"
  }
 },
 "nbformat": 4,
 "nbformat_minor": 5
}
